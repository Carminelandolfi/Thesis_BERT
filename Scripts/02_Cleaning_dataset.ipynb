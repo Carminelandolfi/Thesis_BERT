{
 "cells": [
  {
   "cell_type": "markdown",
   "id": "60e384c9-9ecf-4747-900a-0d865d50b6ce",
   "metadata": {
    "id": "60e384c9-9ecf-4747-900a-0d865d50b6ce"
   },
   "source": [
    "# Import libraries"
   ]
  },
  {
   "cell_type": "code",
   "execution_count": null,
   "id": "00763811-3173-4ed8-98a3-25c0a15ae9e1",
   "metadata": {
    "colab": {
     "base_uri": "https://localhost:8080/"
    },
    "id": "00763811-3173-4ed8-98a3-25c0a15ae9e1",
    "outputId": "c231d1e5-322c-4951-cb02-94a6bf125ca1"
   },
   "outputs": [
    {
     "name": "stdout",
     "output_type": "stream",
     "text": [
      "Drive already mounted at /content/drive; to attempt to forcibly remount, call drive.mount(\"/content/drive\", force_remount=True).\n"
     ]
    }
   ],
   "source": [
    "import pandas as pd\n",
    "import random\n",
    "import re\n",
    "from pylatexenc.latex2text import LatexNodes2Text\n",
    "import matplotlib.pyplot as plt\n",
    "import seaborn as sns\n",
    "\n",
    "from google.colab import drive\n",
    "drive.mount('/content/drive')"
   ]
  },
  {
   "cell_type": "markdown",
   "id": "5d04b4cc-db07-4652-b9d2-65ba92b0c36a",
   "metadata": {
    "id": "5d04b4cc-db07-4652-b9d2-65ba92b0c36a"
   },
   "source": [
    "# Update Dataset"
   ]
  },
  {
   "cell_type": "code",
   "execution_count": null,
   "id": "e88dad50-a659-4d08-9de1-83f33d9e8e18",
   "metadata": {
    "id": "e88dad50-a659-4d08-9de1-83f33d9e8e18"
   },
   "outputs": [],
   "source": [
    "url = '../Dataset/cs_papers_api.csv'\n",
    "# Load the dataset from CSV file\n",
    "\n",
    "df = pd.read_csv(url)"
   ]
  },
  {
   "cell_type": "markdown",
   "id": "dc4a974c-0f57-4756-8fdf-ef58097c6da1",
   "metadata": {
    "id": "dc4a974c-0f57-4756-8fdf-ef58097c6da1"
   },
   "source": [
    "# Cleaning of the dataset"
   ]
  },
  {
   "cell_type": "code",
   "execution_count": null,
   "id": "1f88c4cb-5512-4628-b32d-960f004aa19a",
   "metadata": {
    "id": "1f88c4cb-5512-4628-b32d-960f004aa19a"
   },
   "outputs": [],
   "source": [
    "new_text = df.loc[130,\"abstract\"][:-1] + '}' + df.loc[130,\"abstract\"][-1:] # In the text miss a graph parentesis\n",
    "\n",
    "# Update the DataFrame\n",
    "df.loc[130, \"abstract\"] = new_text"
   ]
  },
  {
   "cell_type": "code",
   "execution_count": null,
   "id": "0f9b0067-f9b2-4ccf-8028-88ac89108ec5",
   "metadata": {
    "colab": {
     "base_uri": "https://localhost:8080/"
    },
    "id": "0f9b0067-f9b2-4ccf-8028-88ac89108ec5",
    "outputId": "73d9b373-0953-4250-e430-e9161abee197"
   },
   "outputs": [
    {
     "name": "stdout",
     "output_type": "stream",
     "text": [
      "Number of abstracts containing at least one formula: 26236 out of 200094\n",
      "Total number of extracted formulas: 182900\n"
     ]
    }
   ],
   "source": [
    "def extract_latex_formulas(text):\n",
    "    \"\"\"\n",
    "    Extracts LaTeX mathematical formulas from a given text.\n",
    "\n",
    "    This function identifies and extracts text segments that represent LaTeX-formatted\n",
    "    mathematical expressions. It covers the four most common types of formula delimiters:\n",
    "\n",
    "    - Inline formulas: enclosed by single dollar signs `$...$`\n",
    "    - Display formulas: enclosed by double dollar signs `$$...$$`\n",
    "    - Equation environment: `\\begin{equation}...\\end{equation}`\n",
    "    - Align environment: `\\begin{align}...\\end{align}`\n",
    "\n",
    "    Args:\n",
    "        text (str): The input string, a scientific abstract.\n",
    "\n",
    "    Returns:\n",
    "        list: A list of strings, each representing LaTeX formulas found in the text.\n",
    "    \"\"\"\n",
    "    # $$...$$\n",
    "    display_pattern = re.findall(r'\\$\\$[^$].*?\\$\\$', text, flags=re.DOTALL)\n",
    "\n",
    "    # $...$\n",
    "    inline_pattern = re.findall(r'\\$[^$][^$\\n]*?\\$', text, flags=re.DOTALL)\n",
    "\n",
    "    # \\( ... \\)\n",
    "    text = re.sub(r'\\\\\\((.*?)\\\\\\)', '[FORMULA]', text)\n",
    "\n",
    "    # \\[...\\]\n",
    "    text = re.sub(r'\\\\\\[(.*?)\\\\\\]', '[FORMULA]', text)\n",
    "\n",
    "    # Equation environment: \\begin{equation}...\\end{equation}\n",
    "    equation_pattern = re.findall(r'\\\\begin{equation}.*?\\\\end{equation}', text, flags=re.DOTALL)\n",
    "\n",
    "    # align environment: \\begin{align}...\\end{align}\n",
    "    align_pattern = re.findall(r'\\\\begin{align}.*?\\\\end{align}', text, flags=re.DOTALL)\n",
    "\n",
    "    return inline_pattern + display_pattern + equation_pattern + align_pattern\n",
    "\n",
    "# Apply the function to each abstract in the dataset\n",
    "row_formulas = df['abstract'].apply(extract_latex_formulas)\n",
    "\n",
    "# Count how many abstracts contain at least one LaTeX formula\n",
    "num_with_formulas = row_formulas.apply(len).gt(0).sum()\n",
    "print(f\"Number of abstracts containing at least one formula: {num_with_formulas} out of {len(df)}\")\n",
    "\n",
    "# Flatten the list of lists to get all formulas across all abstracts\n",
    "all_formulas = [formula for sublist in row_formulas for formula in sublist]\n",
    "\n",
    "print(f\"Total number of extracted formulas: {len(all_formulas)}\")\n"
   ]
  },
  {
   "cell_type": "code",
   "execution_count": null,
   "id": "0c93fae8-1088-4967-bc5b-eddff15aa51c",
   "metadata": {
    "colab": {
     "base_uri": "https://localhost:8080/"
    },
    "id": "0c93fae8-1088-4967-bc5b-eddff15aa51c",
    "outputId": "1c8f4545-9e83-4469-f9cc-f85924ff4cf2"
   },
   "outputs": [
    {
     "name": "stdout",
     "output_type": "stream",
     "text": [
      "Number of abstracts still containing formulas after cleaning: 0 out of 200094\n"
     ]
    }
   ],
   "source": [
    "def replace_latex_formulas(text):\n",
    "    \"\"\"\n",
    "    Replaces all LaTeX mathematical formulas within a text with a placeholder token.\n",
    "\n",
    "    This function detects LaTeX-formatted formulas written in one of the following formats:\n",
    "\n",
    "    - Inline formulas: `$...$`\n",
    "    - Display formulas: `$$...$$`\n",
    "    - LaTeX environments: `\\begin{equation}...\\end{equation}` and `\\begin{align}...\\end{align}`\n",
    "\n",
    "    Each formula is replaced with the string `[FORMULA]` to simplify downstream text processing.\n",
    "    The use of `re.DOTALL` allows matching across multiple lines, which is necessary for\n",
    "    environments that may span several lines of text.\n",
    "\n",
    "    Returns:\n",
    "        str: A cleaned version of the input text with formulas replaced by [FORMULA].\n",
    "    \"\"\"\n",
    "\n",
    "    # Replace display formulas: $$...$$\n",
    "    text = re.sub(r'\\$\\$[^$].*?\\$\\$', \"[FORMULA]\", text, flags=re.DOTALL)\n",
    "\n",
    "    # Replace inline formulas: $...$\n",
    "    text = re.sub(r'\\$[^$][^$\\n]*?\\$', \"[FORMULA]\", text, flags=re.DOTALL)\n",
    "\n",
    "    # Inline math: \\( ... \\)\n",
    "    text = re.sub(r'\\\\\\((.*?)\\\\\\)', '[FORMULA]', text)\n",
    "\n",
    "    # Display math: \\[...\\]\n",
    "    text = re.sub(r'\\\\\\[(.*?)\\\\\\]', '[FORMULA]', text)\n",
    "\n",
    "    # Replace equation environment: \\begin{equation}...\\end{equation}\n",
    "    text = re.sub(r\"\\\\begin{equation}.*?\\\\end{equation}\", \"[FORMULA]\", text, flags=re.DOTALL)\n",
    "\n",
    "    # Replace align environment: \\begin{align}...\\end{align}\n",
    "    text = re.sub(r\"\\\\begin{align}.*?\\\\end{align}\", \"[FORMULA]\", text, flags=re.DOTALL)\n",
    "\n",
    "    return text\n",
    "\n",
    "# Apply formula replacement to the 'abstract' column\n",
    "df['abstract_clean'] = df['abstract'].apply(replace_latex_formulas)\n",
    "\n",
    "# Re-check if any LaTeX formulas remain after cleaning\n",
    "row_formulas = df['abstract_clean'].apply(extract_latex_formulas)\n",
    "\n",
    "# Count how many cleaned abstracts still contain LaTeX formulas (ideally should be 0)\n",
    "num_con_formulas = row_formulas.apply(len).gt(0).sum()\n",
    "print(f\"Number of abstracts still containing formulas after cleaning: {num_con_formulas} out of {len(df)}\")\n"
   ]
  },
  {
   "cell_type": "code",
   "execution_count": null,
   "id": "5c879784-4d2e-479d-ad8a-7aff13324a68",
   "metadata": {
    "colab": {
     "base_uri": "https://localhost:8080/"
    },
    "id": "5c879784-4d2e-479d-ad8a-7aff13324a68",
    "outputId": "d25ddde7-b958-4809-bda9-167e08a37f13"
   },
   "outputs": [
    {
     "name": "stdout",
     "output_type": "stream",
     "text": [
      "Abstracts with at least one link: 5311 out of 200094\n",
      "Total number of links extracted: 6036\n"
     ]
    }
   ],
   "source": [
    "def extract_latex_links(text):\n",
    "    r\"\"\"\n",
    "    Extracts all hyperlinks from a LaTeX-formatted text, including:\n",
    "\n",
    "    - \\url{...}\n",
    "    - \\href{URL}{label}\n",
    "    - Direct URLs starting with http or https\n",
    "\n",
    "    Returns:\n",
    "        list of str: A list of all link occurrences found in the input text.\n",
    "    \"\"\"\n",
    "    # Match \\href{url}{text}\n",
    "    href_links = re.findall(r'\\\\ref\\{[^}]*\\}', text)\n",
    "\n",
    "    # Match \\url{...}\n",
    "    latex_links = re.findall(r'\\\\url\\{[^}]*\\}', text)\n",
    "\n",
    "    # Match direct links like https://...\n",
    "    direct_links = re.findall(r'https?://[^\\s{}()\\[\\],;]+', text)\n",
    "\n",
    "    return latex_links + direct_links + href_links\n",
    "\n",
    "# Apply link extraction to each abstract\n",
    "row_links = df['abstract_clean'].apply(extract_latex_links)\n",
    "\n",
    "# Count number of abstracts containing at least one link\n",
    "num_con_links = row_links.apply(len).gt(0).sum()\n",
    "print(f\"Abstracts with at least one link: {num_con_links} out of {len(df)}\")\n",
    "\n",
    "# Flatten all links into a single list\n",
    "all_links = [link for sublist in row_links for link in sublist]\n",
    "print(f\"Total number of links extracted: {len(all_links)}\")\n"
   ]
  },
  {
   "cell_type": "code",
   "execution_count": null,
   "id": "26fa082c-4f2f-4785-a91a-f69a52171493",
   "metadata": {
    "colab": {
     "base_uri": "https://localhost:8080/"
    },
    "id": "26fa082c-4f2f-4785-a91a-f69a52171493",
    "outputId": "146940ef-eae7-4a0d-ba86-a1ccfb989feb"
   },
   "outputs": [
    {
     "name": "stdout",
     "output_type": "stream",
     "text": [
      "Abstracts with at least one link: 0 out of 200094\n"
     ]
    }
   ],
   "source": [
    "def replace_latex_links(text):\n",
    "    r\"\"\"\n",
    "    Replaces all hyperlinks in LaTeX format or raw URLs with a placeholder [LINK].\n",
    "\n",
    "    Handles:\n",
    "    - \\href{URL}{label}\n",
    "    - \\url{URL}\n",
    "    - Direct links (http:// or https://)\n",
    "\n",
    "    Returns:\n",
    "        str: The input text with links replaced.\n",
    "    \"\"\"\n",
    "    # Replace \\href{url}{label} with [LINK]\n",
    "    text = re.sub(r'\\\\ref\\{[^}]*\\}', '[LINK]', text)\n",
    "\n",
    "    # Replace \\url{...} with [LINK]\n",
    "    text = re.sub(r'\\\\url\\{[^}]*\\}', '[LINK]', text)\n",
    "\n",
    "    # Replace direct links (http:// or https://) with [LINK]\n",
    "    text = re.sub(r'https?://[^\\s{}()\\[\\],;]+', '[LINK]', text)\n",
    "\n",
    "    return text\n",
    "\n",
    "# Apply the link removal to all abstracts\n",
    "df['abstract_clean'] = df['abstract_clean'].apply(replace_latex_links)\n",
    "\n",
    "# Check how many abstracts still contain links (should be 0 ideally)\n",
    "row_links = df['abstract_clean'].apply(extract_latex_links)\n",
    "num_con_links = row_links.apply(len).gt(0).sum()\n",
    "\n",
    "print(f\"Abstracts with at least one link: {num_con_links} out of {len(df)}\")\n"
   ]
  },
  {
   "cell_type": "code",
   "execution_count": null,
   "id": "e56ba209-502a-4ecb-bbcc-ee284286de79",
   "metadata": {
    "colab": {
     "base_uri": "https://localhost:8080/"
    },
    "id": "e56ba209-502a-4ecb-bbcc-ee284286de79",
    "outputId": "4cc25499-607c-415b-e5cb-c144d6f3666f"
   },
   "outputs": [
    {
     "name": "stdout",
     "output_type": "stream",
     "text": [
      "Abstracts containing '--': 8502 out of 200094\n"
     ]
    }
   ],
   "source": [
    "def extract_latex_bars(text):\n",
    "    \"\"\"\n",
    "    Extract all occurrences of double hyphens '--' from the input text.\n",
    "\n",
    "    Returns:\n",
    "        list: A list containing all instances of double hyphens found in the text.\n",
    "    \"\"\"\n",
    "    # Use regex to find all occurrences of '--' in the text\n",
    "    return re.findall(r'--', text)\n",
    "\n",
    "# Apply the extraction function to the 'abstract_clean' column of the DataFrame\n",
    "row_bars = df['abstract_clean'].apply(extract_latex_bars)\n",
    "\n",
    "# Count how many abstracts contain at least one double hyphen\n",
    "num_with_bars = row_bars.apply(len).gt(0).sum()\n",
    "\n",
    "print(f\"Abstracts containing '--': {num_with_bars} out of {len(df)}\")\n"
   ]
  },
  {
   "cell_type": "code",
   "execution_count": null,
   "id": "8a1a0d71-5274-4bee-908f-81d0435a1d1b",
   "metadata": {
    "colab": {
     "base_uri": "https://localhost:8080/"
    },
    "id": "8a1a0d71-5274-4bee-908f-81d0435a1d1b",
    "outputId": "640c7074-21e6-4ea8-ead2-be5fc5b24f2f"
   },
   "outputs": [
    {
     "name": "stdout",
     "output_type": "stream",
     "text": [
      "Abstracts containing '--': 0 out of 200094\n"
     ]
    }
   ],
   "source": [
    "def replace_latex_bars(text):\n",
    "    \"\"\"\n",
    "    Replace all occurrences of double hyphens '--' with commas ','.\n",
    "\n",
    "    Args:\n",
    "        text (str): Input string possibly containing '--'.\n",
    "\n",
    "    Returns:\n",
    "        str: Modified string with '--' replaced by ','.\n",
    "    \"\"\"\n",
    "    return re.sub(r'--', ',', text)\n",
    "\n",
    "# Apply the replacement to the 'abstract_clean' column\n",
    "df['abstract_clean'] = df['abstract_clean'].apply(replace_latex_bars)\n",
    "\n",
    "# Apply the extraction function to the 'abstract_clean' column of the DataFrame\n",
    "row_bars = df['abstract_clean'].apply(extract_latex_bars)\n",
    "\n",
    "# Count how many abstracts contain at least one double hyphen\n",
    "num_with_bars = row_bars.apply(len).gt(0).sum()\n",
    "\n",
    "print(f\"Abstracts containing '--': {num_with_bars} out of {len(df)}\")\n"
   ]
  },
  {
   "cell_type": "code",
   "execution_count": null,
   "id": "382f5ad6-4218-4cf3-8025-cd2124884044",
   "metadata": {
    "colab": {
     "base_uri": "https://localhost:8080/"
    },
    "id": "382f5ad6-4218-4cf3-8025-cd2124884044",
    "outputId": "8d151aeb-7b94-403d-9871-2ca3834be4d1"
   },
   "outputs": [
    {
     "name": "stdout",
     "output_type": "stream",
     "text": [
      "Abstracts with at least one bullet list: 10 out of 200094\n",
      "Total number of bullet list commands extracted: 10\n"
     ]
    }
   ],
   "source": [
    "def extract_latex_bullets_lists(text):\n",
    "    \"\"\"\n",
    "    Extract LaTeX bullet list commands from the input text.\n",
    "\n",
    "    Specifically matches the LaTeX environment start for itemized lists: \\begin{itemize}.\n",
    "\n",
    "\n",
    "    Returns\n",
    "        list: A list of all occurrences of the itemized list opening command.\n",
    "    \"\"\"\n",
    "    # Match occurrences of the LaTeX itemize environment opening\n",
    "    return re.findall(r'\\\\begin\\{itemize\\}', text)\n",
    "\n",
    "# Apply the extraction function to the 'abstract_clean' column\n",
    "row_bullets_lists = df['abstract_clean'].apply(extract_latex_bullets_lists)\n",
    "\n",
    "# Count how many abstracts contain at least one bullet list\n",
    "num_with_bullets = row_bullets_lists.apply(len).gt(0).sum()\n",
    "print(f\"Abstracts with at least one bullet list: {num_with_bullets} out of {len(df)}\")\n",
    "\n",
    "# Flatten the list to obtain all extracted bullet list commands\n",
    "all_bullets_lists = [cmd for sublist in row_bullets_lists for cmd in sublist]\n",
    "print(f\"Total number of bullet list commands extracted: {len(all_bullets_lists)}\")\n"
   ]
  },
  {
   "cell_type": "code",
   "execution_count": null,
   "id": "bad27774-5f46-49b8-9fff-122d5607aa5e",
   "metadata": {
    "colab": {
     "base_uri": "https://localhost:8080/"
    },
    "id": "bad27774-5f46-49b8-9fff-122d5607aa5e",
    "outputId": "e9d4660a-5fc1-4acd-b971-7aa3b70d7757"
   },
   "outputs": [
    {
     "name": "stdout",
     "output_type": "stream",
     "text": [
      "Abstracts with at least one bullet list command: 0 out of 200094\n"
     ]
    }
   ],
   "source": [
    "def replace_latex_bullets_lists(text):\n",
    "    r\"\"\"\n",
    "    Removes LaTeX bullet list commands from the input text.\n",
    "\n",
    "    Specifically removes:\n",
    "    - \\begin{itemize}\n",
    "    - \\end{itemize}\n",
    "    - \\item\n",
    "\n",
    "\n",
    "    Returns\n",
    "        str: The cleaned string without LaTeX list formatting.\n",
    "    \"\"\"\n",
    "    text = re.sub(r'\\\\begin\\{itemize\\}', '', text)\n",
    "    text = re.sub(r'\\\\end\\{itemize\\}', '', text)\n",
    "    text = re.sub(r'\\\\item', '', text)\n",
    "    return text\n",
    "\n",
    "# Apply the replacement function to the dataset\n",
    "df['abstract_clean'] = df['abstract_clean'].apply(replace_latex_bullets_lists)\n",
    "\n",
    "# Re-check for any remaining bullet list commands\n",
    "row_bullets_lists = df['abstract_clean'].apply(extract_latex_bullets_lists)\n",
    "num_with_bullets = row_bullets_lists.apply(len).gt(0).sum()\n",
    "\n",
    "print(f\"Abstracts with at least one bullet list command: {num_with_bullets} out of {len(df)}\")"
   ]
  },
  {
   "cell_type": "code",
   "execution_count": null,
   "id": "41207692-f8ae-4a08-b720-ac6847e71f04",
   "metadata": {
    "colab": {
     "base_uri": "https://localhost:8080/"
    },
    "id": "41207692-f8ae-4a08-b720-ac6847e71f04",
    "outputId": "e66c1efc-3106-4e55-d4b5-e0a987106298"
   },
   "outputs": [
    {
     "name": "stdout",
     "output_type": "stream",
     "text": [
      "Abstracts with at least one backslash: 14375 out of 200094\n",
      "Total number of backslashes extracted: 33798\n"
     ]
    }
   ],
   "source": [
    "def extract_latex_backslash(text):\n",
    "    \"\"\"\n",
    "    Extracts all backslashes from the input text.\n",
    "\n",
    "    Backslashes are used to indicate LaTeX commands and escape sequences.\n",
    "\n",
    "    Returns\n",
    "        list: A list of all backslashes found in the text.\n",
    "    \"\"\"\n",
    "    return re.findall(r\"\\\\\", text)\n",
    "\n",
    "# Apply the extraction function to each abstract\n",
    "row_backslash = df['abstract_clean'].apply(extract_latex_backslash)\n",
    "\n",
    "# Count how many abstracts still contain at least one backslash\n",
    "num_with_backslash = row_backslash.apply(len).gt(0).sum()\n",
    "print(f\"Abstracts with at least one backslash: {num_with_backslash} out of {len(df)}\")\n",
    "\n",
    "# Flatten the list of all extracted backslashes\n",
    "all_backslash = [b for sublist in row_backslash for b in sublist]\n",
    "print(f\"Total number of backslashes extracted: {len(all_backslash)}\")\n"
   ]
  },
  {
   "cell_type": "code",
   "execution_count": null,
   "id": "64fc67f5-0e00-4198-b62c-675675ea8a16",
   "metadata": {
    "colab": {
     "base_uri": "https://localhost:8080/"
    },
    "id": "64fc67f5-0e00-4198-b62c-675675ea8a16",
    "outputId": "753b609f-bc16-41a3-a81a-3dd96d2066b1"
   },
   "outputs": [
    {
     "name": "stdout",
     "output_type": "stream",
     "text": [
      "Abstracts with at least one backslash: 4668 out of 200094\n"
     ]
    }
   ],
   "source": [
    "def replace_latex_commands(text):\n",
    "    r\"\"\"\n",
    "    Cleans LaTeX-specific commands and replaces them with appropriate plain text equivalents.\n",
    "\n",
    "    Handles:\n",
    "    - \\emph{}, \\textit{}, \\textbf{}, \\underline{}: preserves the inner content\n",
    "    - \\em, \\cite{}: removes the command and/or content\n",
    "    - Replaces common LaTeX accented characters with Unicode equivalents\n",
    "\n",
    "    Returns\n",
    "        str: Text with LaTeX commands replaced or removed.\n",
    "    \"\"\"\n",
    "    # Preserve inner content for text formatting commands\n",
    "    text = re.sub(r'\\\\emph\\{([^}]+)\\}', r'\\1', text)\n",
    "    text = re.sub(r'\\\\textit\\{([^}]+)\\}', r'\\1', text)\n",
    "    text = re.sub(r'\\\\textbf\\{([^}]+)\\}', r'\\1', text)\n",
    "    text = re.sub(r'\\\\underline\\{([^}]+)\\}', r'\\1', text)\n",
    "\n",
    "    # Remove inline emphasis command (e.g., \\em text)\n",
    "    text = re.sub(r'\\\\em\\s*', '', text)\n",
    "\n",
    "    # Remove citation commands entirely\n",
    "    text = re.sub(r'\\\\cite\\{[^}]+\\}', '', text)\n",
    "\n",
    "    text = re.sub(r'\\\\colorb\\{([^}]*)\\}', r'\\1', text)\n",
    "\n",
    "    # Replace common LaTeX-encoded accented characters with Unicode equivalents\n",
    "    latex_accents = {\n",
    "        r\"\\\\'a\": \"á\", r\"\\\\'e\": \"é\", r\"\\\\'i\": \"í\", r\"\\\\'o\": \"ó\", r\"\\\\'u\": \"ú\",\n",
    "        r'\\\\\"a': \"ä\", r'\\\\\"e': \"ë\", r'\\\\\"i': \"ï\", r'\\\\\"o': \"ö\", r'\\\\\"u': \"ü\",\n",
    "        r\"\\\\`a\": \"à\", r\"\\\\`e\": \"è\", r\"\\\\`i\": \"ì\", r\"\\\\`o\": \"ò\", r\"\\\\`u\": \"ù\",\n",
    "        r\"\\\\^a\": \"â\", r\"\\\\^e\": \"ê\", r\"\\\\^i\": \"î\", r\"\\\\^o\": \"ô\", r\"\\\\^u\": \"û\",\n",
    "        r\"\\\\~n\": \"ñ\", r\"\\\\H\\{o\\}\": \"ő\", r\"\\\\H\\{u\\}\": \"ű\", r\"\\\\'{e}\": \"é\", r\"\\\\'{o}\": \"ó\",\n",
    "        r\"\\\\'{u}\": \"ú\", r\"\\\\'{i}\": \"í\", r\"\\\\'{a}\": \"á\",\n",
    "    }\n",
    "    for latex, replacement in latex_accents.items():\n",
    "        text = re.sub(latex, replacement, text)\n",
    "\n",
    "    replacements = {\n",
    "        r'\\\\#': '#',\n",
    "        r'\\\\%': '%',\n",
    "        r'\\\\&': '&',\n",
    "        r\"\\\\'\": \"'\",\n",
    "        r\"\\\\`\": \"`\",\n",
    "        r'\\\\~': \"~\",\n",
    "        r'\\\\\\^': \"^\"\n",
    "    }\n",
    "    for pattern, replacement in replacements.items():\n",
    "        text = re.sub(pattern, replacement, text)\n",
    "\n",
    "    return text\n",
    "\n",
    "# Apply the command replacement to each abstract\n",
    "df['abstract_clean'] = df['abstract_clean'].apply(replace_latex_commands)\n",
    "\n",
    "# Check for any remaining backslashes (indicating unresolved LaTeX commands)\n",
    "row_backslash = df['abstract_clean'].apply(extract_latex_backslash)\n",
    "num_con_commands = row_backslash.apply(len).gt(0).sum()\n",
    "\n",
    "print(f\"Abstracts with at least one backslash: {num_con_commands} out of {len(df)}\")\n"
   ]
  },
  {
   "cell_type": "markdown",
   "id": "cee36ca2-14b6-4d60-a5a5-fb0b423534ef",
   "metadata": {
    "id": "cee36ca2-14b6-4d60-a5a5-fb0b423534ef"
   },
   "source": [
    "The row 15 present a special command \\\\model. By examining the original abstract, I found that the command takes the value DANLIP, and thus I proceed with its replacement"
   ]
  },
  {
   "cell_type": "code",
   "execution_count": null,
   "id": "b6dcf0f6-df3b-404d-8af6-1d5d2f070ef4",
   "metadata": {
    "id": "b6dcf0f6-df3b-404d-8af6-1d5d2f070ef4"
   },
   "outputs": [],
   "source": [
    "df.loc[15, 'abstract_clean'] = df.loc[15, 'abstract_clean'].replace(r\"\\model\", \"DANLIP\")\n",
    "\n",
    "df.loc[9819, 'abstract_clean'] = df.loc[15, 'abstract_clean'].replace(r\"\\method\", \"TopoImb\")\n",
    "\n",
    "df.loc[10209, 'abstract_clean'] = df.loc[15, 'abstract_clean'].replace(r\"\\model\", \"LSM\")\n",
    "\n",
    "df.loc[10366, 'abstract_clean'] = df.loc[15, 'abstract_clean'].replace(r\"\\ourmodel\", \"PHN-HVI\")"
   ]
  },
  {
   "cell_type": "code",
   "execution_count": null,
   "id": "551efedb-fcb6-4777-9732-704e6e9279f0",
   "metadata": {
    "colab": {
     "base_uri": "https://localhost:8080/"
    },
    "id": "551efedb-fcb6-4777-9732-704e6e9279f0",
    "outputId": "1d382740-819a-4762-a568-b678d7831c2d"
   },
   "outputs": [
    {
     "name": "stdout",
     "output_type": "stream",
     "text": [
      "Abstracts with at least one backslash: 2433 out of 200094\n"
     ]
    }
   ],
   "source": [
    "def clean_latex_commands(text):\n",
    "    \"\"\"\n",
    "    Cleans LaTeX markup and formatting from a scientific text string.\n",
    "\n",
    "    This function removes or replaces common LaTeX commands, special characters,\n",
    "    and formatting patterns to produce clean, plain text suitable for NLP tasks.\n",
    "\n",
    "    Returns:\n",
    "        str: The cleaned version of the input string, with LaTeX commands stripped or replaced.\n",
    "    \"\"\"\n",
    "    # 1. Remove LaTeX commands that include arguments in braces, e.g., \\citep{...}\n",
    "    commands_to_remove = ['citep', 'citet', 'footnote', 'color', 'mbox','cite']\n",
    "    for cmd in commands_to_remove:\n",
    "        text = re.sub(rf'\\\\{cmd}\\{{[^}}]*\\}}', '', text)\n",
    "\n",
    "    # 2. Unwrap commands like \\texttt{word} → word\n",
    "    unwrap_commands = ['texttt', 'textsc', 'textsf', 'textsl', 'ul', 'gls', 'glspl', 'uline', 'revision']\n",
    "    for cmd in unwrap_commands:\n",
    "        text = re.sub(rf'\\\\{cmd}\\{{([^}}]*)\\}}', r'\\1', text)\n",
    "\n",
    "    # 3. Replace common LaTeX shortcuts or symbols\n",
    "    replacements = {\n",
    "        r'\\\\deg': '°',\n",
    "        r'\\\\eps\\b': 'ε',\n",
    "        r'\\\\ie\\b': 'i.e.',\n",
    "        r'\\\\eg\\b': 'e.g.',\n",
    "        r'\\\\iid\\b': 'i.i.d.',\n",
    "        r'\\\\\"{o}': 'ó',\n",
    "        r'\\\\ll\\b': '≪',\n",
    "        r'\\\\dots(?=\\w)': '',       # \\dotsword → word\n",
    "        r'~\\\\ie\\b': 'i.e.',\n",
    "        r'\\\\ell': 'ell',\n",
    "    }\n",
    "    for pattern, repl in replacements.items():\n",
    "        text = re.sub(pattern, repl, text)\n",
    "\n",
    "    # 4. Replace escaped special characters\n",
    "    escapes = {\n",
    "        r'\\\\\\$': '$',\n",
    "        r'\\\\_': '_',\n",
    "        r'\\\\,': ' ',\n",
    "        r'\\\\:': ':',\n",
    "        r'\\\\2': '2',\n",
    "        r'\\\\c': 'c',\n",
    "        r'\\\\t': 't',\n",
    "        r'\\\\P': 'P',\n",
    "    }\n",
    "    for pattern, repl in escapes.items():\n",
    "        text = re.sub(pattern, repl, text)\n",
    "\n",
    "    # 5. Handle accented letters and special encodings\n",
    "    text = re.sub(r'na\\\\\"\\{i\\}ve', 'naïve', text)\n",
    "    text = re.sub(r'\\\\v\\{a\\}', 'ǎ', text)\n",
    "    text = re.sub(r'\\\\k\\{([^}]+)\\}', r'k\\1', text)\n",
    "\n",
    "    # 6. Unwrap grouped formatting, e.g., {\\bf text} → text\n",
    "    text = re.sub(r'\\{\\\\[a-z]+\\s*([^}]+)\\}', r'\\1', text)\n",
    "\n",
    "    # 7. Remove unwanted standalone LaTeX commands\n",
    "    text = re.sub(r'\\\\(s|indent)\\b', '', text)\n",
    "\n",
    "    # 8. Replace hyperlink-style commands with a placeholder\n",
    "    text = re.sub(r'\\\\href\\s*\\{[^}]*\\}\\{[^}]*\\}', '[LINK]', text)\n",
    "    text = re.sub(r'\\\\hyperlink\\{[^}]*\\}\\{[^}]*\\}', '', text)\n",
    "\n",
    "    # 9. Replace double backslashes with a single space\n",
    "    text = re.sub(r'\\\\\\\\\\s*', ' ', text)\n",
    "\n",
    "    # 10. Replace known formula pattern with [FORMULA]\n",
    "    # text = re.sub(r\"P\\(\\|In - I\\* \\| {\\leq} {delta}I\\*\\) {\\leq}\", \"[FORMULA]\", text)\n",
    "    text = re.sub(\"P\\\\(\\\\|In - I\\\\* \\\\| \\\\{\\\\\\\\leq\\\\} \\\\{delta\\\\}I\\\\*\\\\) \\\\{\\\\\\\\leq\\\\}\", \"[FORMULA]\", text)\n",
    "\n",
    "\n",
    "    return text\n",
    "\n",
    "# Apply the command replacement to each abstract\n",
    "df['abstract_clean'] = df['abstract_clean'].apply(clean_latex_commands)\n",
    "\n",
    "# Check for any remaining backslashes (indicating unresolved LaTeX commands)\n",
    "row_backslash = df['abstract_clean'].apply(extract_latex_backslash)\n",
    "num_con_commands = row_backslash.apply(len).gt(0).sum()\n",
    "\n",
    "print(f\"Abstracts with at least one backslash: {num_con_commands} out of {len(df)}\")\n"
   ]
  },
  {
   "cell_type": "code",
   "execution_count": null,
   "id": "6d4d4276-6be8-47ae-9b38-b94e2aecd00c",
   "metadata": {
    "colab": {
     "base_uri": "https://localhost:8080/"
    },
    "id": "6d4d4276-6be8-47ae-9b38-b94e2aecd00c",
    "outputId": "f2fabdea-5320-46f1-f8ea-3174b7271e36"
   },
   "outputs": [
    {
     "name": "stdout",
     "output_type": "stream",
     "text": [
      "[ROW 18418] Error during LaTeX conversion: list index out of range\n",
      "[ROW 127553] Error during LaTeX conversion: list index out of range\n",
      "Abstracts with at least one backslash: 0 out of 200094\n",
      "Total number of backslashes extracted: 0\n"
     ]
    }
   ],
   "source": [
    "error_indices = []\n",
    "\n",
    "def latex_to_plain_with_logging(text, idx=None):\n",
    "    \"\"\"\n",
    "    Converts a LaTeX formatted string into plain text while logging any conversion errors.\n",
    "\n",
    "    Returns:\n",
    "        str: The plain text version of the input string. If an error occurs, returns an empty string.\n",
    "    \"\"\"\n",
    "    if not isinstance(text, str):\n",
    "        return \"\"\n",
    "\n",
    "    try:\n",
    "        # Convert LaTeX to plain text\n",
    "        return LatexNodes2Text().latex_to_text(text)\n",
    "    except Exception as e:\n",
    "        # Log any errors along with the index of the problematic row\n",
    "        print(f\"[ROW {idx}] Error during LaTeX conversion: {e}\")\n",
    "        error_indices.append(idx)\n",
    "        return \"\"\n",
    "\n",
    "\n",
    "# Apply conversion to all rows in the abstract_clean column\n",
    "df[\"plain_abstract\"] = [\n",
    "    latex_to_plain_with_logging(text, idx) for idx, text in enumerate(df[\"abstract_clean\"])\n",
    "]\n",
    "\n",
    "# Detect remaining LaTeX-style backslashes in the cleaned abstracts\n",
    "row_backslash = df['plain_abstract'].apply(extract_latex_backslash)\n",
    "\n",
    "# Count how many abstracts still contain at least one backslash\n",
    "num_with_backslash = row_backslash.apply(len).gt(0).sum()\n",
    "print(f\"Abstracts with at least one backslash: {num_with_backslash} out of {len(df)}\")\n",
    "\n",
    "# Flatten all backslashes into a single list\n",
    "all_backslash = [b for sublist in row_backslash for b in sublist]\n",
    "print(f\"Total number of backslashes extracted: {len(all_backslash)}\")"
   ]
  },
  {
   "cell_type": "code",
   "execution_count": null,
   "id": "WMAskHOVBGDS",
   "metadata": {
    "id": "WMAskHOVBGDS"
   },
   "outputs": [],
   "source": [
    "# Righe da modificare (0-based index, quindi 18547 e 126999)\n",
    "target_rows = [18418, 127553]\n",
    "\n",
    "# Funzione di pulizia\n",
    "def clean_text(text):\n",
    "    if not isinstance(text, str):\n",
    "        return text\n",
    "    text = re.sub(r'\\$.*?\\$', '[FORMULA]', text)\n",
    "    text = re.sub(r'\\\\mathbb\\{.*?\\}', '[FORMULA]', text)\n",
    "    text = re.sub(r'\\\\href\\{.*?\\}\\ \\{.*?\\}', '[LINK]', text)\n",
    "    text = re.sub(r'\\\\href\\{[^}]*\\}', '[LINK]', text)\n",
    "    return text\n",
    "\n",
    "# Applica solo alle righe selezionate (su tutte le colonne testuali)\n",
    "for row in target_rows:\n",
    "        df.at[row, \"plain_abstract\"] = clean_text(df.at[row, \"abstract_clean\"])\n"
   ]
  },
  {
   "cell_type": "code",
   "execution_count": null,
   "id": "c3c252e9-c180-4d48-be01-1fa6d426a201",
   "metadata": {
    "colab": {
     "base_uri": "https://localhost:8080/",
     "height": 218
    },
    "id": "c3c252e9-c180-4d48-be01-1fa6d426a201",
    "outputId": "8e0b3e9f-4b80-4c89-d29e-0291b5e44ce0"
   },
   "outputs": [
    {
     "data": {
      "application/vnd.google.colaboratory.intrinsic+json": {
       "type": "string"
      },
      "text/plain": [
       "'Training graph neural networks (GNNs) on large graphs is complex and extremely time consuming. This is attributed to overheads caused by sparse matrix multiplication, which are sidestepped when training multi-layer perceptrons (MLPs) with only node features. MLPs, by ignoring graph context, are simple and faster for graph data, however they usually sacrifice prediction accuracy, limiting their applications for graph data. We observe that for most message passing-based GNNs, we can trivially derive an analog MLP (we call this a PeerMLP) with an equivalent weight space, by setting the trainable parameters with the same shapes, making us curious about how do GNNs using weights from a fully trained PeerMLP perform? Surprisingly, we find that GNNs initialized with such weights significantly outperform their PeerMLPs, motivating us to use PeerMLP training as a precursor, initialization step to GNN training. To this end, we propose an embarrassingly simple, yet hugely effective initialization method for GNN training acceleration, called MLPInit. Our extensive experiments on multiple large-scale graph datasets with diverse GNN architectures validate that MLPInit can accelerate the training of GNNs (up to 33X speedup on OGB-Products) and often improve prediction performance (e.g., up to [FORMULA] improvement for GraphSAGE across [FORMULA] datasets for node classification, and up to [FORMULA] improvement across [FORMULA] datasets for link prediction on metric Hits@10). The code is available at [LINK].'"
      ]
     },
     "execution_count": 40,
     "metadata": {},
     "output_type": "execute_result"
    }
   ],
   "source": [
    "df.loc[127553, \"plain_abstract\"]"
   ]
  },
  {
   "cell_type": "code",
   "execution_count": null,
   "id": "a25328a9-d6eb-4084-ba4b-3a3ffbb6dc3c",
   "metadata": {
    "colab": {
     "base_uri": "https://localhost:8080/",
     "height": 218
    },
    "id": "a25328a9-d6eb-4084-ba4b-3a3ffbb6dc3c",
    "outputId": "5a3d1d9a-27e7-42b0-b55d-b3cd23c645c3"
   },
   "outputs": [
    {
     "data": {
      "application/vnd.google.colaboratory.intrinsic+json": {
       "type": "string"
      },
      "text/plain": [
       "'Training graph neural networks (GNNs) on large graphs is complex and extremely time consuming. This is attributed to overheads caused by sparse matrix multiplication, which are sidestepped when training multi-layer perceptrons (MLPs) with only node features. MLPs, by ignoring graph context, are simple and faster for graph data, however they usually sacrifice prediction accuracy, limiting their applications for graph data. We observe that for most message passing-based GNNs, we can trivially derive an analog MLP (we call this a PeerMLP) with an equivalent weight space, by setting the trainable parameters with the same shapes, making us curious about how do GNNs using weights from a fully trained PeerMLP perform? Surprisingly, we find that GNNs initialized with such weights significantly outperform their PeerMLPs, motivating us to use PeerMLP training as a precursor, initialization step to GNN training. To this end, we propose an embarrassingly simple, yet hugely effective initialization method for GNN training acceleration, called MLPInit. Our extensive experiments on multiple large-scale graph datasets with diverse GNN architectures validate that MLPInit can accelerate the training of GNNs (up to 33X speedup on OGB-Products) and often improve prediction performance (e.g., up to [FORMULA] improvement for GraphSAGE across [FORMULA] datasets for node classification, and up to [FORMULA] improvement across [FORMULA] datasets for link prediction on metric Hits@10). The code is available at \\\\href{[LINK]}.'"
      ]
     },
     "execution_count": 38,
     "metadata": {},
     "output_type": "execute_result"
    }
   ],
   "source": [
    "df.loc[127553, \"abstract_clean\"]"
   ]
  },
  {
   "cell_type": "code",
   "execution_count": null,
   "id": "76f6817c-d9e6-45ae-9b12-cfe8d50e7465",
   "metadata": {
    "id": "76f6817c-d9e6-45ae-9b12-cfe8d50e7465"
   },
   "outputs": [],
   "source": [
    "df[\"abstract_clean\"] = df[\"plain_abstract\"]\n",
    "\n",
    "df = df.drop(\"plain_abstract\", axis=1)"
   ]
  },
  {
   "cell_type": "code",
   "execution_count": null,
   "id": "Jb-OOh2VOh9C",
   "metadata": {
    "colab": {
     "base_uri": "https://localhost:8080/",
     "height": 651
    },
    "id": "Jb-OOh2VOh9C",
    "outputId": "9e5c42ab-80a2-49ac-e966-4f0233952851"
   },
   "outputs": [
    {
     "data": {
      "image/png": "[encoded data removed]",
      "text/plain": [
       "<Figure size 1000x500 with 1 Axes>"
      ]
     },
     "metadata": {},
     "output_type": "display_data"
    },
    {
     "name": "stdout",
     "output_type": "stream",
     "text": [
      "count    200094.000000\n",
      "mean        200.287460\n",
      "std          76.802537\n",
      "min           3.000000\n",
      "25%         147.000000\n",
      "50%         195.000000\n",
      "75%         247.000000\n",
      "max         767.000000\n",
      "Name: abstract, dtype: float64\n"
     ]
    }
   ],
   "source": [
    "\n",
    "def separate_tokens(text):\n",
    "    # Insert spaces around punctuation characters\n",
    "    text = re.sub(r'([^\\w\\s])', r' \\1 ', str(text))\n",
    "    # Replace multiple spaces with a single space\n",
    "    text = re.sub(r'\\s+', ' ', text)\n",
    "    return text.strip()\n",
    "\n",
    "# Apply token separation on the 'abstract' column\n",
    "abstract_preprocessed = df['abstract_clean'].apply(separate_tokens)\n",
    "\n",
    "# Calculate number of tokens per abstract (including punctuation)\n",
    "abstract_length = abstract_preprocessed.apply(lambda x: len(x.split()))\n",
    "\n",
    "\n",
    "# Plot boxplot of abstract lengths\n",
    "plt.figure(figsize=(10, 5))\n",
    "sns.boxplot(x=abstract_length, color='lightblue')\n",
    "plt.title('Boxplot of Abstract Lengths (Words + Separated Punctuation)')\n",
    "plt.xlabel('Number of Tokens')\n",
    "\n",
    "plt.savefig('length_abstract.png', dpi=300)\n",
    "plt.show()\n",
    "\n",
    "\n",
    "# Display summary statistics\n",
    "print(abstract_length.describe())"
   ]
  },
  {
   "cell_type": "code",
   "execution_count": null,
   "id": "b40fbc6a-6267-4e23-a1ad-dc66ddfc25f7",
   "metadata": {
    "id": "b40fbc6a-6267-4e23-a1ad-dc66ddfc25f7"
   },
   "outputs": [],
   "source": [
    "save_path = '../Datasets/cleaned_dataset.csv'\n",
    "\n",
    "# Salva il CSV\n",
    "df.to_csv(save_path, index=False)"
   ]
  }
 ],
 "metadata": {
  "accelerator": "TPU",
  "colab": {
   "gpuType": "V28",
   "provenance": []
  },
  "kernelspec": {
   "display_name": "Python 3 (ipykernel)",
   "language": "python",
   "name": "python3"
  },
  "language_info": {
   "codemirror_mode": {
    "name": "ipython",
    "version": 3
   },
   "file_extension": ".py",
   "mimetype": "text/x-python",
   "name": "python",
   "nbconvert_exporter": "python",
   "pygments_lexer": "ipython3",
   "version": "3.9.21"
  }
 },
 "nbformat": 4,
 "nbformat_minor": 5
}
